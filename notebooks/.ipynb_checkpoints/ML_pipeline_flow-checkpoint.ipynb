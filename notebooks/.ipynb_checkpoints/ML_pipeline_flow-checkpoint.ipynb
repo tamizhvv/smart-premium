{
 "cells": [
  {
   "cell_type": "code",
   "execution_count": null,
   "id": "9d9909bc-518f-4cef-bff0-d9a693161f22",
   "metadata": {},
   "outputs": [],
   "source": [
    "import pandas as pd\n",
    "import numpy as np\n",
    "import mlflow\n",
    "import mlflow.sklearn\n",
    "import os\n",
    "import joblib\n",
    "from sklearn.model_selection import train_test_split\n",
    "from sklearn.preprocessing import StandardScaler,OneHotEncoder\n",
    "from sklearn.compose import ColumnTransformer\n",
    "from sklearn.pipeline import Pipeline\n",
    "from sklearn.impute import SimpleImputer\n",
    "from sklearn.metrics import mean_squared_error,mean_squared_error,r2_score,mean_absolute_error\n",
    "from sklearn.linear_model import LinearRegression\n",
    "from sklearn.tree import DecisionTreeRegressor\n",
    "from sklearn.ensemble import RandomForestRegressor\n",
    "from xgboost import XGBRegressor\n",
    "import pathlib\n"
   ]
  },
  {
   "cell_type": "code",
   "execution_count": null,
   "id": "a573901f-8d8b-4e9b-836e-610c3b62c345",
   "metadata": {},
   "outputs": [],
   "source": [
    "train=pd.read_csv(\"Z:\\\\smart_premium\\\\data\\\\raw\\\\train.csv\")\n",
    "test=pd.read_csv(\"Z:\\\\smart_premium\\\\data\\\\raw\\\\test.csv\")\n",
    "sample_submission=pd.read_csv(\"Z:\\\\smart_premium\\\\data\\\\raw\\\\sample_submission.csv\")"
   ]
  },
  {
   "cell_type": "code",
   "execution_count": null,
   "id": "f1451af2-ffb9-4cc5-b135-ed5f02c8877c",
   "metadata": {},
   "outputs": [],
   "source": [
    "train['Policy Start Date']=pd.to_datetime(train['Policy Start Date'])\n",
    "train['Policy Start Year']=train['Policy Start Date'].dt.year\n",
    "train['Policy Start Month']=train['Policy Start Date'].dt.month\n",
    "train['Policy Start Day']=train['Policy Start Date'].dt.day\n",
    "train['Day of week']=train['Policy Start Date'].dt.dayofweek\n",
    "train=train.drop(columns=['Policy Start Date'])"
   ]
  },
  {
   "cell_type": "code",
   "execution_count": null,
   "id": "a53a8d09-074d-4c30-80da-b450b3dc950b",
   "metadata": {},
   "outputs": [],
   "source": [
    "train.head()"
   ]
  },
  {
   "cell_type": "code",
   "execution_count": null,
   "id": "77d05b81-0a4e-4187-9010-77c110baeb8e",
   "metadata": {},
   "outputs": [],
   "source": [
    "X=train.drop(columns=['id','Premium Amount','Customer Feedback'])\n",
    "y=train['Premium Amount']"
   ]
  },
  {
   "cell_type": "code",
   "execution_count": null,
   "id": "2298dd67-fe8b-419c-abdb-6e187176e124",
   "metadata": {},
   "outputs": [],
   "source": [
    "print(X.columns.tolist())"
   ]
  },
  {
   "cell_type": "code",
   "execution_count": null,
   "id": "4d813052-788d-4761-8dda-af8d2d084cfc",
   "metadata": {},
   "outputs": [],
   "source": [
    "X_train,X_val,y_train,y_val=train_test_split(X,y,test_size=0.2,random_state=21)"
   ]
  },
  {
   "cell_type": "code",
   "execution_count": null,
   "id": "4a9549d3-237a-4449-993b-4f1753dfe4a7",
   "metadata": {},
   "outputs": [],
   "source": [
    "print(X_train)"
   ]
  },
  {
   "cell_type": "code",
   "execution_count": null,
   "id": "d85c3ecd-46a7-46b6-893b-29b1f46ce8c0",
   "metadata": {},
   "outputs": [],
   "source": [
    "num_cols=X.select_dtypes(include=['int64','float64']).columns.tolist()\n",
    "cat_cols=X.select_dtypes(include=['object','category']).columns.tolist()\n",
    "\n",
    "num_pipeline=Pipeline(steps=[\n",
    "    ('imputer',SimpleImputer(strategy='mean')),\n",
    "    ('scaler',StandardScaler())\n",
    "])\n",
    "\n",
    "col_pipeline=Pipeline(steps=[\n",
    "    ('imputer',SimpleImputer(strategy='most_frequent')),\n",
    "    ('encoder',OneHotEncoder(handle_unknown='ignore'))\n",
    "])\n",
    "\n",
    "preprocessor=ColumnTransformer(transformers=[\n",
    "    ('num',num_pipeline,num_cols),\n",
    "    ('cat',col_pipeline,cat_cols)\n",
    "])"
   ]
  },
  {
   "cell_type": "code",
   "execution_count": null,
   "id": "278bc6b8-a9d5-42b9-b15a-81f0f283354c",
   "metadata": {},
   "outputs": [],
   "source": [
    "models={\n",
    "    'Linear Regression':LinearRegression(),\n",
    "    'Decision Tree':DecisionTreeRegressor(random_state=30),\n",
    "    'Random Forest':RandomForestRegressor(random_state=30,n_estimators=100,n_jobs=-1),\n",
    "    'XGBoost':XGBRegressor(random_state=30,n_estimators=100,learning_rate=0.1,max_depth=6,n_jobs=-1,verbosity=0)\n",
    "}"
   ]
  },
  {
   "cell_type": "code",
   "execution_count": null,
   "id": "9cf94e91-6db8-44fe-adc5-3c4aad634f08",
   "metadata": {},
   "outputs": [],
   "source": [
    "# =========================\n",
    "# 3️⃣ MLflow Setup\n",
    "# =========================\n",
    "tracking_path = pathlib.Path(r\"Z:\\smart_premium\\mlruns\").absolute()\n",
    "mlflow.set_tracking_uri(f\"file:///{tracking_path.as_posix()}\")\n",
    "mlflow.set_experiment(\"Insurance_Premium_Prediction\")\n",
    "\n",
    "# =========================\n",
    "# 4️⃣ Local save path\n",
    "# =========================\n",
    "local_model_dir = r\"Z:\\smart_premium\\models\"\n",
    "os.makedirs(local_model_dir, exist_ok=True)\n",
    "\n",
    "# =========================\n",
    "# 5️⃣ Best model tracking\n",
    "# =========================\n",
    "best_model_name = None\n",
    "best_model = None\n",
    "best_rmse = float('inf')\n",
    "\n",
    "# =========================\n",
    "# 6️⃣ Training loop\n",
    "# =========================\n",
    "for model_name, model in models.items():\n",
    "    with mlflow.start_run(run_name=model_name):\n",
    "        # Define pipeline\n",
    "        pipe = Pipeline(steps=[\n",
    "            ('preprocessor', preprocessor),  # your ColumnTransformer\n",
    "            ('model', model)\n",
    "        ])\n",
    "        \n",
    "        # Fit on training data\n",
    "        pipe.fit(X_train, y_train)\n",
    "        \n",
    "        # Evaluate on validation set\n",
    "        y_pred = pipe.predict(X_val)\n",
    "        mae = mean_absolute_error(y_val, y_pred)\n",
    "        mse = mean_squared_error(y_val, y_pred)\n",
    "        rmse = np.sqrt(mse)\n",
    "        r2 = r2_score(y_val, y_pred)\n",
    "        \n",
    "        # Log metrics & params to MLflow\n",
    "        mlflow.log_param('model_name', model_name)\n",
    "        mlflow.log_metric('mae', mae)\n",
    "        mlflow.log_metric('rmse', rmse)\n",
    "        mlflow.log_metric('r2', r2)\n",
    "        \n",
    "        # Optional: log model to MLflow\n",
    "        input_example = X_train.iloc[:5]\n",
    "        mlflow.sklearn.log_model(pipe, name='model', input_example=input_example)\n",
    "        \n",
    "        print(f\"{model_name} --> RMSE: {rmse:.2f}, R²: {r2:.3f}, MAE: {mae:.2f}\")\n",
    "        \n",
    "        # Track best model\n",
    "        if rmse < best_rmse:\n",
    "            best_rmse = rmse\n",
    "            best_model_name = model_name\n",
    "            best_model = pipe\n",
    "\n",
    "# =========================\n",
    "# 7️⃣ Retrain best model on full dataset\n",
    "# =========================\n",
    "print(f\"\\n🎯 Best model: {best_model_name} with RMSE {best_rmse:.2f}\")\n",
    "\n",
    "# Use all training + validation data for final training\n",
    "X_full = pd.concat([X_train, X_val])\n",
    "y_full = pd.concat([y_train, y_val])\n",
    "best_model.fit(X_full, y_full)\n",
    "\n",
    "# Save final best model\n",
    "final_model_path = os.path.join(local_model_dir, \"best_model.pkl\")\n",
    "joblib.dump(best_model, final_model_path)\n",
    "print(f\"✅ Final best model saved at: {final_model_path}\")\n",
    "\n",
    "# =========================\n",
    "# 8️⃣ Prepare submission\n",
    "# =========================\n",
    "save_dir = r\"Z:\\smart_premium\\data\\processed\"\n",
    "os.makedirs(save_dir, exist_ok=True)\n",
    "\n",
    "X_test = test.drop(['id'], axis=1)\n",
    "test_preds = best_model.predict(X_test)\n",
    "\n",
    "submission = pd.DataFrame({\n",
    "    'id': test['id'],\n",
    "    'Premium Amount': test_preds\n",
    "})\n",
    "\n",
    "submission_file = os.path.join(save_dir, \"submission.csv\")\n",
    "submission.to_csv(submission_file, index=False)\n",
    "print(f\"✅ Submission file saved at: {submission_file}\")\n"
   ]
  },
  {
   "cell_type": "code",
   "execution_count": null,
   "id": "ae9e7b01-c710-45db-ae3b-548e44d0a31c",
   "metadata": {},
   "outputs": [],
   "source": []
  },
  {
   "cell_type": "code",
   "execution_count": null,
   "id": "41a90615-7e9b-4c6f-8780-adeba54aebf5",
   "metadata": {},
   "outputs": [],
   "source": []
  },
  {
   "cell_type": "code",
   "execution_count": null,
   "id": "2da5bdeb-ad0b-4387-8c4f-c793a73b604d",
   "metadata": {},
   "outputs": [],
   "source": [
    "mlflow ui"
   ]
  },
  {
   "cell_type": "code",
   "execution_count": null,
   "id": "2694d6fe-984f-48d3-b89f-714575c50880",
   "metadata": {},
   "outputs": [],
   "source": [
    "print(pipe.feature_names_in_)"
   ]
  },
  {
   "cell_type": "code",
   "execution_count": null,
   "id": "a7a28482-ece4-489c-b662-f352aab73582",
   "metadata": {},
   "outputs": [],
   "source": []
  }
 ],
 "metadata": {
  "kernelspec": {
   "display_name": "Python 3 (ipykernel)",
   "language": "python",
   "name": "python3"
  },
  "language_info": {
   "codemirror_mode": {
    "name": "ipython",
    "version": 3
   },
   "file_extension": ".py",
   "mimetype": "text/x-python",
   "name": "python",
   "nbconvert_exporter": "python",
   "pygments_lexer": "ipython3",
   "version": "3.13.2"
  }
 },
 "nbformat": 4,
 "nbformat_minor": 5
}
