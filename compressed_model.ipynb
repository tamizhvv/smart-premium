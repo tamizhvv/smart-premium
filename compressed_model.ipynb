{
 "cells": [
  {
   "cell_type": "code",
   "execution_count": 3,
   "id": "3e244422-dca8-4afb-b87d-a07a9fd42a23",
   "metadata": {},
   "outputs": [
    {
     "name": "stdout",
     "output_type": "stream",
     "text": [
      "✅ Compressed model saved at: Z:\\smart_premiummmm\\models\\best_model_compressed.pkl\n"
     ]
    }
   ],
   "source": [
    "import joblib\n",
    "import os\n",
    "\n",
    "# Path to the original model\n",
    "original_model_path = r\"Z:\\smart_premiummmm\\models\\best_model.pkl\"\n",
    "\n",
    "# Path to save compressed model\n",
    "compressed_model_path = r\"Z:\\smart_premiummmm\\models\\best_model_compressed.pkl\"\n",
    "\n",
    "# Load the existing model with joblib\n",
    "model = joblib.load(original_model_path)\n",
    "\n",
    "# Save compressed version (this reduces file size)\n",
    "joblib.dump(model, compressed_model_path, compress=3)\n",
    "\n",
    "print(f\"✅ Compressed model saved at: {compressed_model_path}\")\n"
   ]
  },
  {
   "cell_type": "code",
   "execution_count": 11,
   "id": "c213b4bd-3084-4a13-9dfd-71cad973ee8c",
   "metadata": {},
   "outputs": [
    {
     "name": "stdout",
     "output_type": "stream",
     "text": [
      "numpy 2.3.1\n",
      "pandas 2.2.3\n",
      "sklearn 1.7.0\n",
      "joblib 1.5.1\n",
      "streamlit 1.45.1\n",
      "3.0.5\n"
     ]
    }
   ],
   "source": [
    "import pandas \n",
    "import numpy\n",
    "import sklearn\n",
    "import joblib\n",
    "import streamlit\n",
    "import xgboost\n",
    "\n",
    "print('numpy',numpy.__version__)\n",
    "print('pandas',pandas.__version__)\n",
    "print('sklearn',sklearn.__version__)\n",
    "print('joblib',joblib.__version__)\n",
    "print('streamlit',streamlit.__version__)\n",
    "print(xgboost.__version__)"
   ]
  },
  {
   "cell_type": "code",
   "execution_count": null,
   "id": "89acefbc-788d-467d-8dc0-654ac17b3755",
   "metadata": {},
   "outputs": [],
   "source": []
  }
 ],
 "metadata": {
  "kernelspec": {
   "display_name": "Python 3 (ipykernel)",
   "language": "python",
   "name": "python3"
  },
  "language_info": {
   "codemirror_mode": {
    "name": "ipython",
    "version": 3
   },
   "file_extension": ".py",
   "mimetype": "text/x-python",
   "name": "python",
   "nbconvert_exporter": "python",
   "pygments_lexer": "ipython3",
   "version": "3.13.2"
  }
 },
 "nbformat": 4,
 "nbformat_minor": 5
}
