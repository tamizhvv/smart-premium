{
 "cells": [
  {
   "cell_type": "code",
   "execution_count": 3,
   "id": "3e244422-dca8-4afb-b87d-a07a9fd42a23",
   "metadata": {},
   "outputs": [
    {
     "name": "stdout",
     "output_type": "stream",
     "text": [
      "✅ Compressed model saved at: Z:\\smart_premiummmm\\models\\best_model_compressed.pkl\n"
     ]
    }
   ],
   "source": [
    "import joblib\n",
    "import os\n",
    "\n",
    "# Path to the original model\n",
    "original_model_path = r\"Z:\\smart_premiummmm\\models\\best_model.pkl\"\n",
    "\n",
    "# Path to save compressed model\n",
    "compressed_model_path = r\"Z:\\smart_premiummmm\\models\\best_model_compressed.pkl\"\n",
    "\n",
    "# Load the existing model with joblib\n",
    "model = joblib.load(original_model_path)\n",
    "\n",
    "# Save compressed version (this reduces file size)\n",
    "joblib.dump(model, compressed_model_path, compress=3)\n",
    "\n",
    "print(f\"✅ Compressed model saved at: {compressed_model_path}\")\n"
   ]
  },
  {
   "cell_type": "code",
   "execution_count": 10,
   "id": "c213b4bd-3084-4a13-9dfd-71cad973ee8c",
   "metadata": {},
   "outputs": [
    {
     "ename": "ModuleNotFoundError",
     "evalue": "No module named 'XGBoost'",
     "output_type": "error",
     "traceback": [
      "\u001b[31m---------------------------------------------------------------------------\u001b[39m",
      "\u001b[31mModuleNotFoundError\u001b[39m                       Traceback (most recent call last)",
      "\u001b[36mCell\u001b[39m\u001b[36m \u001b[39m\u001b[32mIn[10]\u001b[39m\u001b[32m, line 6\u001b[39m\n\u001b[32m      4\u001b[39m \u001b[38;5;28;01mimport\u001b[39;00m\u001b[38;5;250m \u001b[39m\u001b[34;01mjoblib\u001b[39;00m\n\u001b[32m      5\u001b[39m \u001b[38;5;28;01mimport\u001b[39;00m\u001b[38;5;250m \u001b[39m\u001b[34;01mstreamlit\u001b[39;00m\n\u001b[32m----> \u001b[39m\u001b[32m6\u001b[39m \u001b[38;5;28;01mimport\u001b[39;00m\u001b[38;5;250m \u001b[39m\u001b[34;01mXGBoost\u001b[39;00m\n\u001b[32m      8\u001b[39m \u001b[38;5;28mprint\u001b[39m(\u001b[33m'\u001b[39m\u001b[33mnumpy\u001b[39m\u001b[33m'\u001b[39m,numpy.__version__)\n\u001b[32m      9\u001b[39m \u001b[38;5;28mprint\u001b[39m(\u001b[33m'\u001b[39m\u001b[33mpandas\u001b[39m\u001b[33m'\u001b[39m,pandas.__version__)\n",
      "\u001b[31mModuleNotFoundError\u001b[39m: No module named 'XGBoost'"
     ]
    }
   ],
   "source": [
    "import pandas \n",
    "import numpy\n",
    "import sklearn\n",
    "import joblib\n",
    "import streamlit\n",
    "import XGBoost\n",
    "\n",
    "print('numpy',numpy.__version__)\n",
    "print('pandas',pandas.__version__)\n",
    "print('sklearn',sklearn.__version__)\n",
    "print('joblib',joblib.__version__)\n",
    "print('streamlit',streamlit.__version__)\n",
    "print(XGBoost.__version__)"
   ]
  },
  {
   "cell_type": "code",
   "execution_count": null,
   "id": "89acefbc-788d-467d-8dc0-654ac17b3755",
   "metadata": {},
   "outputs": [],
   "source": []
  }
 ],
 "metadata": {
  "kernelspec": {
   "display_name": "Python 3 (ipykernel)",
   "language": "python",
   "name": "python3"
  },
  "language_info": {
   "codemirror_mode": {
    "name": "ipython",
    "version": 3
   },
   "file_extension": ".py",
   "mimetype": "text/x-python",
   "name": "python",
   "nbconvert_exporter": "python",
   "pygments_lexer": "ipython3",
   "version": "3.13.2"
  }
 },
 "nbformat": 4,
 "nbformat_minor": 5
}
